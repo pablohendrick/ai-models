{
  "nbformat": 4,
  "nbformat_minor": 0,
  "metadata": {
    "colab": {
      "provenance": []
    },
    "kernelspec": {
      "name": "python3",
      "display_name": "Python 3"
    },
    "language_info": {
      "name": "python"
    }
  },
  "cells": [
    {
      "cell_type": "code",
      "execution_count": null,
      "metadata": {
        "id": "custys4m9-xV"
      },
      "outputs": [],
      "source": [
        "import torch\n",
        "import torch.nn as nn\n",
        "import torch.optim as optim\n",
        "from sklearn.datasets import make_classification\n",
        "from sklearn.model_selection import train_test_split\n",
        "from sklearn.preprocessing import StandardScaler\n",
        "import numpy as np\n",
        "import theano as th\n",
        "import theano.tensor as T\n",
        "import matlab.engine"
      ]
    },
    {
      "cell_type": "code",
      "source": [
        "# Generate data\n",
        "X, y = make_classification(n_samples=1000, n_features=20, n_classes=2, random_state=42)\n",
        "X_train, X_test, y_train, y_test = train_test_split(X, y, test_size=0.2, random_state=42)\n",
        "\n",
        "# Data preprocessing\n",
        "scaler = StandardScaler()\n",
        "X_train = scaler.fit_transform(X_train)\n",
        "X_test = scaler.transform(X_test)"
      ],
      "metadata": {
        "id": "pOgd3-b8-LrN"
      },
      "execution_count": null,
      "outputs": []
    },
    {
      "cell_type": "code",
      "source": [
        "# Define the SVM model\n",
        "class SVM(nn.Module):\n",
        "    def __init__(self):\n",
        "        super(SVM, self).__init__()\n",
        "        self.linear = nn.Linear(20, 1)\n",
        "\n",
        "    def forward(self, x):\n",
        "        return self.linear(x)\n",
        "\n",
        "# model and define loss function and optimizer\n",
        "model = SVM()\n",
        "criterion = nn.HingeEmbeddingLoss()\n",
        "optimizer = optim.SGD(model.parameters(), lr=0.01)\n",
        "\n",
        "# Train the model\n",
        "num_epochs = 100\n",
        "for epoch in range(num_epochs):\n",
        "    optimizer.zero_grad()\n",
        "    outputs = model(torch.tensor(X_train, dtype=torch.float32))\n",
        "    loss = criterion(outputs.squeeze(), torch.tensor(y_train, dtype=torch.float32))\n",
        "    loss.backward()\n",
        "    optimizer.step()\n",
        "\n",
        "    if (epoch+1) % 10 == 0:\n",
        "        print(f'PyTorch: Epoch [{epoch+1}/{num_epochs}], Loss: {loss.item():.4f}')"
      ],
      "metadata": {
        "id": "Gn2yC383-Qh7"
      },
      "execution_count": null,
      "outputs": []
    },
    {
      "cell_type": "code",
      "source": [
        "with torch.no_grad():\n",
        "    outputs = model(torch.tensor(X_test, dtype=torch.float32))\n",
        "    predicted = torch.sign(outputs).detach().numpy()\n",
        "    accuracy = (predicted.squeeze() == y_test).mean()\n",
        "    print(f'PyTorch: Test Accuracy: {accuracy:.4f}')"
      ],
      "metadata": {
        "id": "Pfk5l1Mc-Xcr"
      },
      "execution_count": null,
      "outputs": []
    },
    {
      "cell_type": "code",
      "source": [
        "class SVMTheano:\n",
        "    def __init__(self):\n",
        "        self.w = th.shared(np.random.randn(20), name='w')\n",
        "        self.b = th.shared(0., name='b')\n",
        "        self.params = [self.w, self.b]\n",
        "        self.X = T.matrix('X')\n",
        "        self.y = T.vector('y')"
      ],
      "metadata": {
        "id": "HifqGQIR-qUz"
      },
      "execution_count": null,
      "outputs": []
    },
    {
      "cell_type": "code",
      "source": [
        "def train(self, X_train, y_train, lr=0.01, epochs=100):\n",
        "        y_pred = T.dot(self.X, self.w) + self.b\n",
        "        hinge_loss = T.mean(T.maximum(0., 1 - self.y * y_pred))\n",
        "        gw, gb = T.grad(hinge_loss, [self.w, self.b])\n",
        "        train_fn = th.function(\n",
        "            inputs=[self.X, self.y],\n",
        "            outputs=hinge_loss,\n",
        "            updates=[(self.w, self.w - lr * gw), (self.b, self.b - lr * gb)]\n",
        "        )\n",
        "        for epoch in range(epochs):\n",
        "            train_loss = train_fn(X_train, y_train)\n",
        "            print(f'Theano: Epoch [{epoch+1}/{epochs}], Loss: {train_loss:.4f}')"
      ],
      "metadata": {
        "id": "icUbyrXj-xKr"
      },
      "execution_count": null,
      "outputs": []
    },
    {
      "cell_type": "code",
      "source": [
        "# Instantiate and train the model\n",
        "svm_theano = SVMTheano()\n",
        "svm_theano.train(X_train, y_train)"
      ],
      "metadata": {
        "id": "yVqHaE_b-3Pj"
      },
      "execution_count": null,
      "outputs": []
    },
    {
      "cell_type": "code",
      "source": [
        "eng = matlab.engine.start_matlab()\n",
        "eng.addpath('/path/to/your/MATLAB/script')  # Add the path to your MATLAB script\n",
        "eng.train_svm(X_train.tolist(), y_train.tolist(), nargout=0)  # Assuming your MATLAB script has a train_svm function\n",
        "\n",
        "eng.quit()"
      ],
      "metadata": {
        "id": "iy5S10sL_AoU"
      },
      "execution_count": null,
      "outputs": []
    }
  ]
}