{
  "nbformat": 4,
  "nbformat_minor": 0,
  "metadata": {
    "colab": {
      "provenance": []
    },
    "kernelspec": {
      "name": "python3",
      "display_name": "Python 3"
    },
    "language_info": {
      "name": "python"
    }
  },
  "cells": [
    {
      "cell_type": "code",
      "execution_count": null,
      "metadata": {
        "id": "pyFNhKLeSj-8"
      },
      "outputs": [],
      "source": [
        "import numpy as np\n",
        "import seaborn as sns\n",
        "import matplotlib.pyplot as plt\n",
        "from sklearn.linear_model import LinearRegression\n",
        "from scipy.stats import norm"
      ]
    },
    {
      "cell_type": "code",
      "source": [
        "num_simulations = 1000\n",
        "num_points = 100\n",
        "noise_mean = 0\n",
        "noise_std = 0.5\n",
        "\n",
        "X = np.random.uniform(0, 10, size=(num_points, 1))"
      ],
      "metadata": {
        "id": "su1Y1ucjSp6f"
      },
      "execution_count": null,
      "outputs": []
    },
    {
      "cell_type": "code",
      "source": [
        "def target_function(x):\n",
        "    return 2 * x + 1\n",
        "\n",
        "y = target_function(X) + np.random.normal(noise_mean, noise_std, size=(num_points, 1))\n",
        "\n",
        "model = LinearRegression()"
      ],
      "metadata": {
        "id": "A8FX7KRhSz5b"
      },
      "execution_count": null,
      "outputs": []
    },
    {
      "cell_type": "code",
      "source": [
        "predictions = []\n",
        "for _ in range(num_simulations):\n",
        "    y_noisy = y + np.random.normal(noise_mean, noise_std, size=(num_points, 1))\n",
        "    model.fit(X, y_noisy)\n",
        "    y_pred = model.predict(X)\n",
        "    predictions.append(y_pred)\n",
        "\n",
        "predictions = np.array(predictions)\n",
        "mean_predictions = np.mean(predictions, axis=0)\n",
        "std_predictions = np.std(predictions, axis=0)"
      ],
      "metadata": {
        "id": "qfivJv5JS2Kk"
      },
      "execution_count": null,
      "outputs": []
    },
    {
      "cell_type": "code",
      "source": [
        "plt.figure(figsize=(10, 6))\n",
        "plt.scatter(X, y, color='blue', label='Real Data', alpha=0.5)\n",
        "plt.plot(X, target_function(X), color='green', label='Target Function', linewidth=2)\n",
        "plt.plot(X, mean_predictions, color='red', label='Mean Predictions', linewidth=2)\n",
        "plt.fill_between(X.squeeze(), (mean_predictions - 2 * std_predictions).squeeze(), (mean_predictions + 2 * std_predictions).squeeze(), color='orange', alpha=0.3, label='Uncertainty (2 standard deviations)')\n",
        "plt.xlabel('X')\n",
        "plt.ylabel('y')\n",
        "plt.title('Monte Carlo Simulation with Linear Regression')\n",
        "plt.legend()\n",
        "plt.grid(True)\n",
        "plt.show()"
      ],
      "metadata": {
        "id": "7AyOZnK6TFR_"
      },
      "execution_count": null,
      "outputs": []
    }
  ]
}